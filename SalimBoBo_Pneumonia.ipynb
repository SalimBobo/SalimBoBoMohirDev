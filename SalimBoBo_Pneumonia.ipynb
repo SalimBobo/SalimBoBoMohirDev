{
  "cells": [
    {
      "cell_type": "markdown",
      "metadata": {
        "id": "view-in-github",
        "colab_type": "text"
      },
      "source": [
        "<a href=\"https://colab.research.google.com/github/SalimBobo/SalimBoBoMohirDev/blob/main/SalimBoBo_Pneumonia.ipynb\" target=\"_parent\"><img src=\"https://colab.research.google.com/assets/colab-badge.svg\" alt=\"Open In Colab\"/></a>"
      ]
    },
    {
      "cell_type": "code",
      "source": [
        "!rm -r /content/sample_data"
      ],
      "metadata": {
        "id": "wKTHgbucsUqm"
      },
      "execution_count": null,
      "outputs": []
    },
    {
      "cell_type": "code",
      "source": [
        "# Import necessary libraries\n",
        "import torch\n",
        "import fastai\n",
        "from fastai.vision.all import *\n",
        "from ipywidgets import widgets\n",
        "import os\n",
        "from PIL import Image\n",
        "import numpy as np\n",
        "import pandas as pd\n",
        "from google.colab import drive\n",
        "from zipfile import ZipFile\n",
        "\n",
        "print(torch.__version__)\n",
        "print(fastai.__version__)\n",
        "\n",
        "# Mount Google Drive\n",
        "drive.mount('/content/drive')\n",
        "\n",
        "# Define the paths to the datasets\n",
        "train_zip_path = '/content/drive/MyDrive/train.zip'\n",
        "test_zip_path = '/content/drive/MyDrive/test.zip'\n",
        "\n",
        "# Extract the datasets\n",
        "with ZipFile(train_zip_path, 'r') as zip:\n",
        "  zip.extractall('/content/train')\n",
        "  print(\"Train dataset is extracted\")\n",
        "\n",
        "with ZipFile(test_zip_path, 'r') as zip:\n",
        "  zip.extractall('/content/test')\n",
        "  print(\"Test dataset is extracted\")\n",
        "\n",
        "# Define the path\n",
        "path = Path('/content/train')\n",
        "\n",
        "# Create a DataBlock with data augmentation\n",
        "db = DataBlock(\n",
        "    blocks=(ImageBlock, CategoryBlock),\n",
        "    get_items=get_image_files,\n",
        "    splitter=RandomSplitter(valid_pct=0.2, seed=42),\n",
        "    get_y=parent_label,\n",
        "    item_tfms=Resize(460),  # Increase image resolution\n",
        "    batch_tfms=aug_transforms(size=224)  # Apply data augmentation\n",
        ")\n",
        "\n",
        "dls = db.dataloaders(path)\n",
        "\n",
        "# Train the model\n",
        "learn = vision_learner(dls, resnet101, metrics=accuracy)  # Use a more powerful model\n",
        "learn.fine_tune(6)  # Fine-tune for more epochs\n",
        "\n",
        "# Unfreeze and train more\n",
        "learn.unfreeze()\n",
        "learn.fit_one_cycle(4, lr_max=slice(1e-6,1e-4))\n",
        "\n",
        "# Interpret the model\n",
        "interp = ClassificationInterpretation.from_learner(learn)\n",
        "interp.plot_confusion_matrix()\n",
        "\n",
        "# Predict on the test set\n",
        "path = Path('/content/test')\n",
        "images = [os.path.join(path, f) for f in os.listdir(path)]\n",
        "\n",
        "predictions = []\n",
        "for i in images:\n",
        "  pred, pred_id, _ = learn.predict(i)\n",
        "  predictions.append(pred)\n",
        "\n",
        "# Export the predictions\n",
        "df1 = pd.DataFrame(images)\n",
        "df2 = pd.DataFrame(predictions)\n",
        "df = pd.concat([df1, df2], axis=1)\n",
        "\n",
        "df.to_csv('/content/submission_modified.csv')\n"
      ],
      "metadata": {
        "id": "36DBEIf-yKeF"
      },
      "execution_count": null,
      "outputs": []
    },
    {
      "cell_type": "code",
      "source": [],
      "metadata": {
        "id": "ht3xzhvZwGgx"
      },
      "execution_count": null,
      "outputs": []
    }
  ],
  "metadata": {
    "accelerator": "TPU",
    "colab": {
      "provenance": [],
      "mount_file_id": "1m1Whu5O2wtyrd27tMaR99pCE3Indcupe",
      "authorship_tag": "ABX9TyP6zt1UOB8Z1lW7b5WcSsPG",
      "include_colab_link": true
    },
    "kernelspec": {
      "display_name": "Python 3",
      "name": "python3"
    },
    "language_info": {
      "name": "python"
    }
  },
  "nbformat": 4,
  "nbformat_minor": 0
}